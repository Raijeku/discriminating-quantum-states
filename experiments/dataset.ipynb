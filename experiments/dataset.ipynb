{
 "cells": [
  {
   "cell_type": "code",
   "execution_count": 2,
   "metadata": {},
   "outputs": [],
   "source": [
    "from qiskit import QuantumCircuit, execute, Aer, IBMQ, pulse\n",
    "#from qiskit.tools.monitor import job_monitor\n",
    "#from qiskit.tools.jupyter import *\n",
    "from qiskit.compiler import assemble\n",
    "import pandas as pd"
   ]
  },
  {
   "cell_type": "code",
   "execution_count": 3,
   "metadata": {},
   "outputs": [],
   "source": [
    "provider = IBMQ.load_account()\n",
    "provider = IBMQ.get_provider(hub='ibm-q-ornl', group='ornl', project='phy141')\n",
    "backend = provider.get_backend('ibmq_bogota')\n",
    "backend_defaults = backend.defaults()\n",
    "backend_config = backend.configuration()\n",
    "assert backend_config.open_pulse, \"Backend doesn't support Pulse\"\n",
    "calibrations = backend_defaults.instruction_schedule_map\n",
    "x_schedules = [calibrations.get('x',i) for i in range(backend_config.n_qubits)]"
   ]
  },
  {
   "cell_type": "code",
   "execution_count": 5,
   "metadata": {},
   "outputs": [
    {
     "data": {
      "text/plain": [
       "<Figure size 432x288 with 0 Axes>"
      ]
     },
     "metadata": {},
     "output_type": "display_data"
    }
   ],
   "source": [
    "import matplotlib.pyplot as plt\n",
    "x_schedules[0].draw()\n",
    "plt.savefig(\"x_schedule.png\", transparent = True, bbox_inches = 'tight', pad_inches = 0)\n",
    "plt.savefig(\"x_schedule.pdf\", transparent = True, bbox_inches = 'tight', pad_inches = 0)\n",
    "plt.savefig(\"x_schedule.svg\", transparent = True, bbox_inches = 'tight', pad_inches = 0)\n",
    "plt.show()"
   ]
  },
  {
   "cell_type": "code",
   "execution_count": null,
   "metadata": {},
   "outputs": [
    {
     "name": "stdout",
     "output_type": "stream",
     "text": [
      "[[0, 1], [1, 2], [2, 3], [3, 4]]\n"
     ]
    }
   ],
   "source": [
    "couples = [list(x) for x in set(tuple(x) for x in backend_config.coupling_map)]\n",
    "print(couples)"
   ]
  },
  {
   "cell_type": "code",
   "execution_count": 39,
   "metadata": {},
   "outputs": [
    {
     "name": "stderr",
     "output_type": "stream",
     "text": [
      "C:\\Users\\usuario\\AppData\\Roaming\\Python\\Python38\\site-packages\\qiskit\\compiler\\assemble.py:304: RuntimeWarning: Dynamic rep rates are supported on this backend. 'rep_delay' will be used instead of 'rep_time'.\n",
      "  warnings.warn(\"Dynamic rep rates are supported on this backend. 'rep_delay' will be \"\n"
     ]
    },
    {
     "name": "stdout",
     "output_type": "stream",
     "text": [
      "Job Status: job has successfully run\n",
      "Job Status: job has successfully run\n",
      "Job Status: job has successfully run\n",
      "Job Status: job has successfully run\n",
      "Stored 'results' (list)\n"
     ]
    }
   ],
   "source": [
    "qubit = 0\n",
    "\n",
    "meas_map_idx = None\n",
    "for i, measure_group in enumerate(backend_config.meas_map):\n",
    "    if qubit in measure_group:\n",
    "        meas_map_idx = i\n",
    "        break\n",
    "assert meas_map_idx is not None, f\"Couldn't find qubit {qubit} in the meas_map!\"\n",
    "inst_sched_map = backend_defaults.instruction_schedule_map\n",
    "results = []\n",
    "for couple in couples:\n",
    "    measure = inst_sched_map.get('measure', qubits=backend_config.meas_map[0])\n",
    "    gnd_schedule = pulse.Schedule(name=\"00 state\")\n",
    "    gnd_schedule += measure\n",
    "\n",
    "    schedules = [gnd_schedule]\n",
    "\n",
    "    drive_chan_0 = pulse.DriveChannel(couple[0])\n",
    "    meas_chan_0 = pulse.MeasureChannel(couple[0])\n",
    "    acq_chan_0 = pulse.AcquireChannel(couple[0])\n",
    "\n",
    "    drive_chan_1 = pulse.DriveChannel(couple[1])\n",
    "    meas_chan_1 = pulse.MeasureChannel(couple[1])\n",
    "    acq_chan_1 = pulse.AcquireChannel(couple[1])\n",
    "\n",
    "    center_frequency_Hz_0 = backend_defaults.qubit_freq_est[couple[0]]\n",
    "    center_frequency_Hz_1 = backend_defaults.qubit_freq_est[couple[1]]\n",
    "\n",
    "    schedules.append(pulse.Schedule(name='01'.format()))\n",
    "    schedules[-1] += x_schedules[couple[0]]\n",
    "    schedules[-1] += measure << schedules[-1].duration\n",
    "\n",
    "    schedules.append(pulse.Schedule(name='10'.format()))\n",
    "    schedules[-1] += x_schedules[couple[1]]\n",
    "    schedules[-1] += measure << schedules[-1].duration\n",
    "\n",
    "    schedules.append(pulse.Schedule(name='11'.format()))\n",
    "    schedules[-1] += x_schedules[couple[0]]\n",
    "    schedules[-1] += x_schedules[couple[1]]\n",
    "    schedules[-1] += measure << schedules[-1].duration\n",
    "\n",
    "    num_shots_per_schedule = 1024\n",
    "\n",
    "    program = assemble(schedules,\n",
    "                                       backend=backend, \n",
    "                                       meas_level=1,\n",
    "                                       meas_return='single',\n",
    "                                       shots=num_shots_per_schedule,\n",
    "                                       schedule_los=[{drive_chan_0: center_frequency_Hz_0, drive_chan_1: center_frequency_Hz_1}] * len(schedules))\n",
    "    job = backend.run(program)\n",
    "    job_monitor(job)\n",
    "    result = job.result()\n",
    "    results.append(result)\n",
    "    \n",
    "%store results"
   ]
  },
  {
   "cell_type": "code",
   "execution_count": 67,
   "metadata": {},
   "outputs": [
    {
     "name": "stdout",
     "output_type": "stream",
     "text": [
      "Couple 0\n",
      "Couple 1\n",
      "Couple 2\n",
      "Couple 3\n"
     ]
    }
   ],
   "source": [
    "from matplotlib import pyplot as plt\n",
    "import numpy as np\n",
    "scale_factor = 0.7\n",
    "\n",
    "for i in range(len(couples)):\n",
    "    result = results[i]\n",
    "    print('Couple',i)\n",
    "    df = pd.DataFrame(data={'x_1': result.get_memory(0)[:, couples[i][0]].real, 'x_2': result.get_memory(0)[:, couples[i][0]].imag, 'y': 0})[['x_1','x_2','y']]\n",
    "    df.to_csv('data/dataset_bogota_{0}_{1}_00_0.csv'.format(couples[i][0],couples[i][1]),index=False)\n",
    "    df = pd.DataFrame(data={'x_1': result.get_memory(0)[:, couples[i][1]].real, 'x_2': result.get_memory(0)[:, couples[i][1]].imag, 'y': 0})[['x_1','x_2','y']]\n",
    "    df.to_csv('data/dataset_bogota_{0}_{1}_00_1.csv'.format(couples[i][0],couples[i][1]),index=False)\n",
    "    df = pd.DataFrame(data={'x_1': result.get_memory(1)[:, couples[i][0]].real, 'x_2': result.get_memory(1)[:, couples[i][0]].imag, 'y': 1})[['x_1','x_2','y']]\n",
    "    df.to_csv('data/dataset_bogota_{0}_{1}_10_0.csv'.format(couples[i][0],couples[i][1]),index=False)\n",
    "    df = pd.DataFrame(data={'x_1': result.get_memory(1)[:, couples[i][1]].real, 'x_2': result.get_memory(1)[:, couples[i][1]].imag, 'y': 0})[['x_1','x_2','y']]\n",
    "    df.to_csv('data/dataset_bogota_{0}_{1}_10_1.csv'.format(couples[i][0],couples[i][1]),index=False)\n",
    "    df = pd.DataFrame(data={'x_1': result.get_memory(2)[:, couples[i][0]].real, 'x_2': result.get_memory(2)[:, couples[i][0]].imag, 'y': 0})[['x_1','x_2','y']]\n",
    "    df.to_csv('data/dataset_bogota_{0}_{1}_01_0.csv'.format(couples[i][0],couples[i][1]),index=False)\n",
    "    df = pd.DataFrame(data={'x_1': result.get_memory(2)[:, couples[i][1]].real, 'x_2': result.get_memory(2)[:, couples[i][1]].imag, 'y': 1})[['x_1','x_2','y']]\n",
    "    df.to_csv('data/dataset_bogota_{0}_{1}_01_1.csv'.format(couples[i][0],couples[i][1]),index=False)\n",
    "    df = pd.DataFrame(data={'x_1': result.get_memory(3)[:, couples[i][0]].real, 'x_2': result.get_memory(3)[:, couples[i][0]].imag, 'y': 1})[['x_1','x_2','y']]\n",
    "    df.to_csv('data/dataset_bogota_{0}_{1}_11_0.csv'.format(couples[i][0],couples[i][1]),index=False)\n",
    "    df = pd.DataFrame(data={'x_1': result.get_memory(3)[:, couples[i][1]].real, 'x_2': result.get_memory(3)[:, couples[i][1]].imag, 'y': 1})[['x_1','x_2','y']]\n",
    "    df.to_csv('data/dataset_bogota_{0}_{1}_11_1.csv'.format(couples[i][0],couples[i][1]),index=False)\n",
    "    "
   ]
  },
  {
   "cell_type": "code",
   "execution_count": 66,
   "metadata": {},
   "outputs": [
    {
     "data": {
      "text/html": [
       "<div>\n",
       "<style scoped>\n",
       "    .dataframe tbody tr th:only-of-type {\n",
       "        vertical-align: middle;\n",
       "    }\n",
       "\n",
       "    .dataframe tbody tr th {\n",
       "        vertical-align: top;\n",
       "    }\n",
       "\n",
       "    .dataframe thead th {\n",
       "        text-align: right;\n",
       "    }\n",
       "</style>\n",
       "<table border=\"1\" class=\"dataframe\">\n",
       "  <thead>\n",
       "    <tr style=\"text-align: right;\">\n",
       "      <th></th>\n",
       "      <th>x_1</th>\n",
       "      <th>x_2</th>\n",
       "      <th>y</th>\n",
       "    </tr>\n",
       "  </thead>\n",
       "  <tbody>\n",
       "    <tr>\n",
       "      <th>0</th>\n",
       "      <td>28723230.0</td>\n",
       "      <td>-88202952.0</td>\n",
       "      <td>1</td>\n",
       "    </tr>\n",
       "    <tr>\n",
       "      <th>1</th>\n",
       "      <td>56917912.0</td>\n",
       "      <td>-82410096.0</td>\n",
       "      <td>1</td>\n",
       "    </tr>\n",
       "    <tr>\n",
       "      <th>2</th>\n",
       "      <td>38492960.0</td>\n",
       "      <td>-82972504.0</td>\n",
       "      <td>1</td>\n",
       "    </tr>\n",
       "    <tr>\n",
       "      <th>3</th>\n",
       "      <td>47223868.0</td>\n",
       "      <td>-95581616.0</td>\n",
       "      <td>1</td>\n",
       "    </tr>\n",
       "    <tr>\n",
       "      <th>4</th>\n",
       "      <td>14574164.0</td>\n",
       "      <td>-89250624.0</td>\n",
       "      <td>1</td>\n",
       "    </tr>\n",
       "    <tr>\n",
       "      <th>...</th>\n",
       "      <td>...</td>\n",
       "      <td>...</td>\n",
       "      <td>...</td>\n",
       "    </tr>\n",
       "    <tr>\n",
       "      <th>1019</th>\n",
       "      <td>18728568.0</td>\n",
       "      <td>-80205064.0</td>\n",
       "      <td>1</td>\n",
       "    </tr>\n",
       "    <tr>\n",
       "      <th>1020</th>\n",
       "      <td>29340764.0</td>\n",
       "      <td>-107102288.0</td>\n",
       "      <td>1</td>\n",
       "    </tr>\n",
       "    <tr>\n",
       "      <th>1021</th>\n",
       "      <td>46207536.0</td>\n",
       "      <td>-104772168.0</td>\n",
       "      <td>1</td>\n",
       "    </tr>\n",
       "    <tr>\n",
       "      <th>1022</th>\n",
       "      <td>29932656.0</td>\n",
       "      <td>-72390448.0</td>\n",
       "      <td>1</td>\n",
       "    </tr>\n",
       "    <tr>\n",
       "      <th>1023</th>\n",
       "      <td>33045530.0</td>\n",
       "      <td>-94870184.0</td>\n",
       "      <td>1</td>\n",
       "    </tr>\n",
       "  </tbody>\n",
       "</table>\n",
       "<p>1024 rows × 3 columns</p>\n",
       "</div>"
      ],
      "text/plain": [
       "             x_1          x_2  y\n",
       "0     28723230.0  -88202952.0  1\n",
       "1     56917912.0  -82410096.0  1\n",
       "2     38492960.0  -82972504.0  1\n",
       "3     47223868.0  -95581616.0  1\n",
       "4     14574164.0  -89250624.0  1\n",
       "...          ...          ... ..\n",
       "1019  18728568.0  -80205064.0  1\n",
       "1020  29340764.0 -107102288.0  1\n",
       "1021  46207536.0 -104772168.0  1\n",
       "1022  29932656.0  -72390448.0  1\n",
       "1023  33045530.0  -94870184.0  1\n",
       "\n",
       "[1024 rows x 3 columns]"
      ]
     },
     "execution_count": 66,
     "metadata": {},
     "output_type": "execute_result"
    }
   ],
   "source": [
    "df"
   ]
  },
  {
   "cell_type": "markdown",
   "metadata": {},
   "source": [
    "## Configurations retrieval"
   ]
  },
  {
   "cell_type": "code",
   "execution_count": 3,
   "metadata": {},
   "outputs": [
    {
     "name": "stderr",
     "output_type": "stream",
     "text": [
      "C:\\Users\\usuario\\AppData\\Roaming\\Python\\Python38\\site-packages\\qiskit\\providers\\ibmq\\ibmqfactory.py:192: UserWarning: Timestamps in IBMQ backend properties, jobs, and job results are all now in local time instead of UTC.\n",
      "  warnings.warn('Timestamps in IBMQ backend properties, jobs, and job results '\n"
     ]
    }
   ],
   "source": [
    "provider = IBMQ.load_account()\n",
    "provider = IBMQ.get_provider(hub='ibm-q-ornl', group='ornl', project='phy141')\n",
    "backend = provider.get_backend('ibmq_bogota')\n",
    "retrieved_job = backend.retrieve_job('605bddbdef04bbe8375fa555')"
   ]
  },
  {
   "cell_type": "code",
   "execution_count": 12,
   "metadata": {},
   "outputs": [
    {
     "data": {
      "text/plain": [
       "<qiskit.providers.ibmq.job.ibmqjob.IBMQJob at 0x1df12247f40>"
      ]
     },
     "execution_count": 12,
     "metadata": {},
     "output_type": "execute_result"
    }
   ],
   "source": [
    "retrieved_job"
   ]
  },
  {
   "cell_type": "code",
   "execution_count": 35,
   "metadata": {},
   "outputs": [
    {
     "data": {
      "text/plain": [
       "{'name': 'parametric_pulse',\n",
       " 't0': 0,\n",
       " 'ch': 'd0',\n",
       " 'pulse_shape': 'drag',\n",
       " 'parameters': {'duration': 160,\n",
       "  'amp': (0.19041175559266285+0j),\n",
       "  'sigma': 40,\n",
       "  'beta': -1.1813680761122822}}"
      ]
     },
     "execution_count": 35,
     "metadata": {},
     "output_type": "execute_result"
    }
   ],
   "source": [
    "retrieved_job.qobj().experiments[1].instructions[0].to_dict()"
   ]
  },
  {
   "cell_type": "code",
   "execution_count": 49,
   "metadata": {},
   "outputs": [
    {
     "data": {
      "image/png": "[encoded data removed]",
      "text/plain": [
       "<Figure size 1500x1800 with 1 Axes>"
      ]
     },
     "execution_count": 49,
     "metadata": {},
     "output_type": "execute_result"
    }
   ],
   "source": [
    "params = retrieved_job.qobj().experiments[1].instructions[0].to_dict()['parameters']\n",
    "pulse_1_state = pulse.Drag(params['duration'],params['amp'],params['sigma'],params['beta'])\n",
    "sched = pulse.Schedule(name='Default X gate schedule')\n",
    "sched += pulse.Play(pulse_1_state, pulse.DriveChannel(0))\n",
    "sched.draw()"
   ]
  },
  {
   "cell_type": "code",
   "execution_count": 50,
   "metadata": {},
   "outputs": [],
   "source": [
    "schedule_plot = sched.draw()\n",
    "schedule_plot.savefig('x_pulse_0.pdf', transparent = True, bbox_inches = 'tight', pad_inches = 0)\n",
    "schedule_plot.savefig('x_pulse_0.svg', transparent = True, bbox_inches = 'tight', pad_inches = 0)\n",
    "schedule_plot.savefig('x_pulse_0.png', dpi = 300, transparent = True, bbox_inches = 'tight', pad_inches = 0)"
   ]
  },
  {
   "cell_type": "code",
   "execution_count": 67,
   "metadata": {},
   "outputs": [
    {
     "name": "stdout",
     "output_type": "stream",
     "text": [
      "Qubit 0 had a readout_error of 0.04069999999999996\n",
      "Qubit 1 had a readout_error of 0.08400000000000007\n",
      "Qubit 2 had a readout_error of 0.021499999999999964\n",
      "Qubit 3 had a readout_error of 0.023800000000000043\n",
      "Qubit 4 had a readout_error of 0.02510000000000001\n"
     ]
    }
   ],
   "source": [
    "for i in range(5):\n",
    "    print('Qubit {0} had a readout_error of {1}'.format(i,retrieved_job.properties().readout_error(i)))"
   ]
  }
 ],
 "metadata": {
  "kernelspec": {
   "display_name": "quantum2021",
   "language": "python",
   "name": "quantum2021"
  },
  "language_info": {
   "codemirror_mode": {
    "name": "ipython",
    "version": 3
   },
   "file_extension": ".py",
   "mimetype": "text/x-python",
   "name": "python",
   "nbconvert_exporter": "python",
   "pygments_lexer": "ipython3",
   "version": "3.9.7"
  }
 },
 "nbformat": 4,
 "nbformat_minor": 2
}
